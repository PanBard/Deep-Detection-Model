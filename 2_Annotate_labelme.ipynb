{
 "cells": [
  {
   "cell_type": "markdown",
   "id": "5b489f34-feb6-41be-a8ed-011a12833a14",
   "metadata": {},
   "source": [
    "### Annotate Images with LabelMe"
   ]
  },
  {
   "cell_type": "code",
   "execution_count": null,
   "id": "fd297086-9913-4d73-aa0a-aca604a6a8fc",
   "metadata": {
    "scrolled": true
   },
   "outputs": [],
   "source": [
    "!pip install labelme "
   ]
  },
  {
   "cell_type": "code",
   "execution_count": null,
   "id": "16b3b2ed-9680-4261-8508-a507102ef28e",
   "metadata": {},
   "outputs": [],
   "source": [
    "!labelme"
   ]
  },
  {
   "cell_type": "code",
   "execution_count": null,
   "id": "92fed965-5eaa-41ec-a093-62eebded79d4",
   "metadata": {},
   "outputs": [],
   "source": []
  }
 ],
 "metadata": {
  "kernelspec": {
   "display_name": "my_env",
   "language": "python",
   "name": "my_env"
  },
  "language_info": {
   "codemirror_mode": {
    "name": "ipython",
    "version": 3
   },
   "file_extension": ".py",
   "mimetype": "text/x-python",
   "name": "python",
   "nbconvert_exporter": "python",
   "pygments_lexer": "ipython3",
   "version": "3.8.10"
  }
 },
 "nbformat": 4,
 "nbformat_minor": 5
}
