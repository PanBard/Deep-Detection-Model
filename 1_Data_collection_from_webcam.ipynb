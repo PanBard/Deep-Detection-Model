{
 "cells": [
  {
   "cell_type": "markdown",
   "id": "9a089f24-fef3-4615-ae95-731b340c88f6",
   "metadata": {},
   "source": [
    "### Collect Images Using OpenCV"
   ]
  },
  {
   "cell_type": "code",
   "execution_count": null,
   "id": "bf7ce777-7bd1-4bc1-94e2-5ab626f71704",
   "metadata": {},
   "outputs": [],
   "source": [
    "import os\n",
    "import time\n",
    "import uuid\n",
    "import cv2\n",
    "\n",
    "def make_dictionary(path):\n",
    "    # Check if the directory already exists\n",
    "    if not os.path.exists(path):\n",
    "        # Create the directory\n",
    "        os.makedirs(path)\n",
    "        print(f\"Directory '{path}' created.\")\n",
    "    else:\n",
    "        print(f\"Directory '{path}' already exists.\")"
   ]
  },
  {
   "cell_type": "code",
   "execution_count": null,
   "id": "2cff4aa6-e708-45e0-9c5e-ebb198568531",
   "metadata": {},
   "outputs": [],
   "source": [
    "IMAGES_PATH = os.path.join('data','raw_images')\n",
    "number_images = 30\n",
    "make_dictionary(IMAGES_PATH);\n"
   ]
  },
  {
   "cell_type": "code",
   "execution_count": null,
   "id": "deba0f06-e7d1-4295-b28c-c197479d0410",
   "metadata": {},
   "outputs": [],
   "source": [
    "cap = cv2.VideoCapture(0)\n",
    "if cap.isOpened():\n",
    "    for imgnum in range(number_images):\n",
    "        print('Collecting image {}'.format(imgnum))\n",
    "        ret, frame = cap.read()\n",
    "        imgname = os.path.join(IMAGES_PATH,f'{str(uuid.uuid1())}.jpg')\n",
    "        cv2.imwrite(imgname, frame)\n",
    "        cv2.imshow('frame', frame)\n",
    "        time.sleep(0.5)\n",
    "    \n",
    "        if cv2.waitKey(1) & 0xFF == ord('q'):\n",
    "            break\n",
    "cap.release()\n",
    "# cv2.destroyAllWindows()"
   ]
  },
  {
   "cell_type": "code",
   "execution_count": null,
   "id": "91ce6a4f-0090-46a3-bb83-3fb45d88f5a1",
   "metadata": {},
   "outputs": [],
   "source": []
  }
 ],
 "metadata": {
  "kernelspec": {
   "display_name": "my_env",
   "language": "python",
   "name": "my_env"
  },
  "language_info": {
   "codemirror_mode": {
    "name": "ipython",
    "version": 3
   },
   "file_extension": ".py",
   "mimetype": "text/x-python",
   "name": "python",
   "nbconvert_exporter": "python",
   "pygments_lexer": "ipython3",
   "version": "3.8.10"
  }
 },
 "nbformat": 4,
 "nbformat_minor": 5
}
